{
 "cells": [
  {
   "cell_type": "markdown",
   "metadata": {},
   "source": [
    "## Binary Search - Works for sorted list"
   ]
  },
  {
   "cell_type": "code",
   "execution_count": 23,
   "metadata": {
    "collapsed": true
   },
   "outputs": [],
   "source": [
    "sorted_list = [item for item in range(1,100000000)]"
   ]
  },
  {
   "cell_type": "code",
   "execution_count": 25,
   "metadata": {},
   "outputs": [
    {
     "name": "stdout",
     "output_type": "stream",
     "text": [
      "yes\n",
      "Wall time: 5.04 s\n"
     ]
    }
   ],
   "source": [
    "%%time\n",
    "#O(n) method of searching\n",
    "for i in sorted_list:\n",
    "    if i == 90200003:\n",
    "        print(\"yes\")\n",
    "        break"
   ]
  },
  {
   "cell_type": "code",
   "execution_count": 35,
   "metadata": {},
   "outputs": [
    {
     "name": "stdout",
     "output_type": "stream",
     "text": [
      "yes\n",
      "Wall time: 0 ns\n"
     ]
    }
   ],
   "source": [
    "%%time\n",
    "#Iterative version\n",
    "right = len(sorted_list) - 1\n",
    "left = 0\n",
    "search = 90200003\n",
    "while left <= right:\n",
    "    middle = left + int((right-left)/2)\n",
    "    if sorted_list[middle] == search:\n",
    "        print(\"yes\")\n",
    "        break\n",
    "    elif sorted_list[middle] > search:\n",
    "        right = middle - 1\n",
    "    else:\n",
    "        left = middle + 1"
   ]
  },
  {
   "cell_type": "code",
   "execution_count": 36,
   "metadata": {
    "collapsed": true
   },
   "outputs": [],
   "source": [
    "def binary_search(array, left, right, search):\n",
    "    if (left > right):\n",
    "        return \"no\"\n",
    "    mid = left + int((right - left)/2)\n",
    "    \n",
    "    if array[mid] == search:\n",
    "        return \"yes\"\n",
    "    elif array[mid] > search:\n",
    "        return binary_search(array, left, mid - 1, search)\n",
    "    else:\n",
    "        return binary_search(array, mid + 1, right, search)"
   ]
  },
  {
   "cell_type": "code",
   "execution_count": 31,
   "metadata": {},
   "outputs": [
    {
     "name": "stdout",
     "output_type": "stream",
     "text": [
      "Wall time: 0 ns\n"
     ]
    },
    {
     "data": {
      "text/plain": [
       "'yes'"
      ]
     },
     "execution_count": 31,
     "metadata": {},
     "output_type": "execute_result"
    }
   ],
   "source": [
    "%%time\n",
    "binary_search(sorted_list, 0, len(sorted_list)-1, search)"
   ]
  },
  {
   "cell_type": "markdown",
   "metadata": {},
   "source": [
    "## Search in rotated array - [6, 7, 8, 9, 1, 2, 3, 4, 5]"
   ]
  },
  {
   "cell_type": "code",
   "execution_count": 37,
   "metadata": {
    "collapsed": true
   },
   "outputs": [],
   "source": [
    "def rotated_binary_search(array, left, right, search):\n",
    "    mid = left + int((right-left)/2)\n",
    "    if array[mid] == search:\n",
    "        return \"yes\"\n",
    "    \n",
    "    if array[left] < array[mid]:\n",
    "        #Implies left side of array is sorted\n",
    "        if search < array[mid] and search >= array[left]:\n",
    "            return rotated_binary_search(array, left, mid-1, search)\n",
    "        else:\n",
    "            return rotated_binary_search(array, mid+1, right, search)\n",
    "    else:\n",
    "        #Right side must be sorted\n",
    "        if search <= array[right] and search > array[mid]:\n",
    "            return rotated_binary_search(array, mid+1, right, search)\n",
    "        else:\n",
    "            return rotated_binary_search(array, left, mid-1, search)"
   ]
  },
  {
   "cell_type": "code",
   "execution_count": 42,
   "metadata": {
    "collapsed": true
   },
   "outputs": [],
   "source": [
    "rotated_array =  sorted_list[500000:] + sorted_list[1:5000]"
   ]
  },
  {
   "cell_type": "code",
   "execution_count": 43,
   "metadata": {},
   "outputs": [
    {
     "name": "stdout",
     "output_type": "stream",
     "text": [
      "yes\n",
      "Wall time: 5.42 s\n"
     ]
    }
   ],
   "source": [
    "%%time\n",
    "#O(n) method of searching\n",
    "for i in rotated_array:\n",
    "    if i == 90200003:\n",
    "        print(\"yes\")\n",
    "        break"
   ]
  },
  {
   "cell_type": "code",
   "execution_count": 47,
   "metadata": {},
   "outputs": [
    {
     "name": "stdout",
     "output_type": "stream",
     "text": [
      "yes\n",
      "Wall time: 0 ns\n"
     ]
    }
   ],
   "source": [
    "%%time\n",
    "left = 0\n",
    "right = len(rotated_array) - 1\n",
    "while left <= right:\n",
    "    mid = left + int((right-left)/2)\n",
    "    if rotated_array[mid] == search:\n",
    "        print(\"yes\")\n",
    "        break\n",
    "\n",
    "    if rotated_array[left] < rotated_array[mid]:\n",
    "        #Implies left side of array is sorted\n",
    "        if search < rotated_array[mid] and search >= rotated_array[left]:\n",
    "            right = mid - 1\n",
    "        else:\n",
    "            left = mid + 1\n",
    "    else:\n",
    "        #Right side must be sorted\n",
    "        if search <= rotated_array[right] and search > rotated_array[mid]:\n",
    "            left = mid + 1\n",
    "        else:\n",
    "            right = mid - 1"
   ]
  },
  {
   "cell_type": "code",
   "execution_count": null,
   "metadata": {
    "collapsed": true
   },
   "outputs": [],
   "source": [
    "rotated_binary_search(rotated_array, left, right, search)\n",
    "#Recursion limit reached"
   ]
  },
  {
   "cell_type": "markdown",
   "metadata": {},
   "source": [
    "## Bubble Sort"
   ]
  },
  {
   "cell_type": "code",
   "execution_count": 48,
   "metadata": {},
   "outputs": [
    {
     "name": "stdout",
     "output_type": "stream",
     "text": [
      "[2, 4, 1, 5, 7, 3, 10, 6, 9, 11]\n",
      "[2, 1, 4, 5, 3, 7, 6, 9, 10, 11]\n",
      "[1, 2, 4, 3, 5, 6, 7, 9, 10, 11]\n",
      "[1, 2, 3, 4, 5, 6, 7, 9, 10, 11]\n",
      "[1, 2, 3, 4, 5, 6, 7, 9, 10, 11]\n",
      "[1, 2, 3, 4, 5, 6, 7, 9, 10, 11]\n",
      "[1, 2, 3, 4, 5, 6, 7, 9, 10, 11]\n",
      "[1, 2, 3, 4, 5, 6, 7, 9, 10, 11]\n",
      "[1, 2, 3, 4, 5, 6, 7, 9, 10, 11]\n",
      "[1, 2, 3, 4, 5, 6, 7, 9, 10, 11]\n"
     ]
    }
   ],
   "source": [
    "my_list = [4,2,5,1,7,10,3,11,6,9]\n",
    "\n",
    "#Basic bubble Sort\n",
    "for _ in range(len(my_list)):\n",
    "    for i in range(1, len(my_list)):\n",
    "        if my_list[i-1] > my_list[i]:\n",
    "            my_list[i], my_list[i-1] = my_list[i-1], my_list[i]\n",
    "            \n",
    "    print(my_list)"
   ]
  },
  {
   "cell_type": "code",
   "execution_count": 49,
   "metadata": {},
   "outputs": [
    {
     "name": "stdout",
     "output_type": "stream",
     "text": [
      "[2, 4, 1, 5, 7, 3, 10, 6, 9, 11]\n",
      "[2, 1, 4, 5, 3, 7, 6, 9, 10, 11]\n",
      "[1, 2, 4, 3, 5, 6, 7, 9, 10, 11]\n",
      "[1, 2, 3, 4, 5, 6, 7, 9, 10, 11]\n"
     ]
    }
   ],
   "source": [
    "#Optimized Bubble Sort\n",
    "my_list = [4,2,5,1,7,10,3,11,6,9]\n",
    "for _ in range(len(my_list)):\n",
    "    count_swaps = 0\n",
    "    for i in range(1, len(my_list)):\n",
    "        if my_list[i-1] > my_list[i]:\n",
    "            count_swaps += 1\n",
    "            my_list[i], my_list[i-1] = my_list[i-1], my_list[i]\n",
    "    \n",
    "    if count_swaps == 0:\n",
    "        break\n",
    "    print(my_list)"
   ]
  },
  {
   "cell_type": "markdown",
   "metadata": {},
   "source": [
    "## Insertion Sort"
   ]
  },
  {
   "cell_type": "code",
   "execution_count": 55,
   "metadata": {},
   "outputs": [
    {
     "name": "stdout",
     "output_type": "stream",
     "text": [
      "[2, 4, 5, 1, 7, 10, 3, 11, 6, 9]\n",
      "[2, 4, 5, 1, 7, 10, 3, 11, 6, 9]\n",
      "[1, 2, 4, 5, 7, 10, 3, 11, 6, 9]\n",
      "[1, 2, 4, 5, 7, 10, 3, 11, 6, 9]\n",
      "[1, 2, 4, 5, 7, 10, 3, 11, 6, 9]\n",
      "[1, 2, 3, 4, 5, 7, 10, 11, 6, 9]\n",
      "[1, 2, 3, 4, 5, 7, 10, 11, 6, 9]\n",
      "[1, 2, 3, 4, 5, 6, 7, 10, 11, 9]\n",
      "[1, 2, 3, 4, 5, 6, 7, 9, 10, 11]\n",
      "13\n"
     ]
    }
   ],
   "source": [
    "my_list = [4, 2, 5, 1, 7, 10, 3, 11, 6, 9]\n",
    "work_done = 0\n",
    "for i in range(1, len(my_list)):\n",
    "    j = i - 1\n",
    "    key = my_list[i]\n",
    "    while j >= 0 and my_list[j] > key:\n",
    "        work_done += 1\n",
    "        my_list[j + 1] = my_list[j]\n",
    "        j -= 1\n",
    "    my_list[j + 1] = key\n",
    "    print(my_list)\n",
    "    \n",
    "print(work_done)"
   ]
  },
  {
   "cell_type": "markdown",
   "metadata": {},
   "source": [
    "## Binary Insertion Sort"
   ]
  },
  {
   "cell_type": "code",
   "execution_count": 60,
   "metadata": {
    "collapsed": true
   },
   "outputs": [],
   "source": [
    "def bin_search(array, left, right, key):\n",
    "    if right <= left:\n",
    "        return left if array[left] > key else left + 1 \n",
    "    \n",
    "    mid = left + int((right-left)/2)\n",
    "    \n",
    "    if array[mid] == key:\n",
    "        return mid + 1\n",
    "    \n",
    "    if array[mid] < key:\n",
    "        return bin_search(array, mid+1, right, key)\n",
    "    else:\n",
    "        return bin_search(array, left, mid-1, key)"
   ]
  },
  {
   "cell_type": "code",
   "execution_count": 61,
   "metadata": {},
   "outputs": [
    {
     "name": "stdout",
     "output_type": "stream",
     "text": [
      "[2, 4, 5, 1, 7, 10, 3, 11, 6, 9]\n",
      "[2, 4, 5, 1, 7, 10, 3, 11, 6, 9]\n",
      "[1, 2, 4, 5, 7, 10, 3, 11, 6, 9]\n",
      "[1, 2, 4, 5, 7, 10, 3, 11, 6, 9]\n",
      "[1, 2, 4, 5, 7, 10, 3, 11, 6, 9]\n",
      "[1, 2, 3, 4, 5, 7, 10, 11, 6, 9]\n",
      "[1, 2, 3, 4, 5, 7, 10, 11, 6, 9]\n",
      "[1, 2, 3, 4, 5, 6, 7, 10, 11, 9]\n",
      "[1, 2, 3, 4, 5, 6, 7, 9, 10, 11]\n"
     ]
    }
   ],
   "source": [
    "my_list = [4, 2, 5, 1, 7, 10, 3, 11, 6, 9]\n",
    "work_done = 0\n",
    "for i in range(1, len(my_list)):\n",
    "    j = i - 1\n",
    "    key = my_list[i]\n",
    "    if key < my_list[j]:\n",
    "        left = 0\n",
    "        right = j\n",
    "        index_to_insert = bin_search(my_list, left, right, key)\n",
    "        \n",
    "        while j >= index_to_insert:\n",
    "            my_list[j+1] = my_list[j]\n",
    "            j -= 1\n",
    "            \n",
    "        my_list[j+1] = key\n",
    "        \n",
    "    print(my_list)"
   ]
  },
  {
   "cell_type": "markdown",
   "metadata": {},
   "source": [
    "## Merge Sort"
   ]
  },
  {
   "cell_type": "code",
   "execution_count": 75,
   "metadata": {
    "collapsed": true
   },
   "outputs": [],
   "source": [
    "def merge_sort(array, left, right):\n",
    "    if left >= right:\n",
    "        return [array[left]]\n",
    "\n",
    "    middle = left + int((right - left) / 2)\n",
    "    left_array = merge_sort(array, left, middle)\n",
    "    right_array = merge_sort(array, middle + 1, right)\n",
    "    new_array = combine(left_array, right_array)\n",
    "    return new_array"
   ]
  },
  {
   "cell_type": "code",
   "execution_count": 76,
   "metadata": {
    "collapsed": true
   },
   "outputs": [],
   "source": [
    "def combine(array_1, array_2):\n",
    "    i, j = 0, 0\n",
    "    new_list = []\n",
    "    while i < len(array_1) and j < len(array_2):\n",
    "        if array_1[i] < array_2[j]:\n",
    "            new_list.append(array_1[i])\n",
    "            i += 1\n",
    "        else:\n",
    "            new_list.append(array_2[j])\n",
    "            j += 1\n",
    "            \n",
    "    while i < len(array_1):\n",
    "        new_list.append(array_1[i])\n",
    "        i += 1\n",
    "        \n",
    "    while j < len(array_2):\n",
    "        new_list.append(array_2[j])\n",
    "        j += 1\n",
    "    \n",
    "    return new_list        "
   ]
  },
  {
   "cell_type": "code",
   "execution_count": 77,
   "metadata": {},
   "outputs": [
    {
     "data": {
      "text/plain": [
       "[1, 2, 3, 4, 5, 6, 7, 9, 10, 11]"
      ]
     },
     "execution_count": 77,
     "metadata": {},
     "output_type": "execute_result"
    }
   ],
   "source": [
    "my_list = [4, 2, 5, 1, 7, 10, 3, 11, 6, 9]\n",
    "merge_sort(my_list, 0, len(my_list)-1)"
   ]
  },
  {
   "cell_type": "markdown",
   "metadata": {},
   "source": [
    "## Heap sort"
   ]
  },
  {
   "cell_type": "code",
   "execution_count": 90,
   "metadata": {
    "collapsed": true
   },
   "outputs": [],
   "source": [
    "def heapify(arr, n, i):\n",
    "    greatest = i\n",
    "    left = 2*i + 1\n",
    "    right = 2*i + 2\n",
    "    \n",
    "    if left < n and arr[left] > arr[greatest]:\n",
    "        greatest = left\n",
    "    \n",
    "    if right < n and arr[right] > arr[greatest]:\n",
    "        greatest = right\n",
    "    \n",
    "    if greatest != i:\n",
    "        arr[greatest], arr[i] = arr[i], arr[greatest]\n",
    "        heapify(arr, n, greatest)"
   ]
  },
  {
   "cell_type": "code",
   "execution_count": 93,
   "metadata": {},
   "outputs": [
    {
     "name": "stdout",
     "output_type": "stream",
     "text": [
      "Heapifying:\n",
      "[1, 4, 3, 7, 10, 13]\n",
      "[1, 4, 3, 7, 10, 13]\n",
      "[1, 4, 3, 7, 10, 13]\n",
      "[1, 4, 13, 7, 10, 3]\n",
      "[1, 10, 13, 7, 4, 3]\n",
      "[13, 10, 3, 7, 4, 1]\n",
      "generating sorted list:\n",
      "[1, 10, 3, 7, 4, 13]\n",
      "[4, 7, 3, 1, 10, 13]\n",
      "[1, 4, 3, 7, 10, 13]\n",
      "[3, 1, 4, 7, 10, 13]\n",
      "[1, 3, 4, 7, 10, 13]\n",
      "[1, 3, 4, 7, 10, 13]\n"
     ]
    }
   ],
   "source": [
    "my_list = [1,4,3,7,10,13]\n",
    "print(\"Heapifying:\")\n",
    "for i in range(len(my_list)-1, -1, -1):\n",
    "    heapify(my_list, len(my_list), i)\n",
    "    print(my_list)\n",
    "    \n",
    "print(\"Generating sorted list:\")\n",
    "for i in range(len(my_list)-1, -1, -1):\n",
    "    my_list[i], my_list[0] = my_list[0], my_list[i]\n",
    "    print(my_list)\n",
    "    heapify(my_list, i, 0)"
   ]
  },
  {
   "cell_type": "markdown",
   "metadata": {},
   "source": [
    "## Quick sort"
   ]
  },
  {
   "cell_type": "code",
   "execution_count": 97,
   "metadata": {
    "collapsed": true
   },
   "outputs": [],
   "source": [
    "def partition(arr, low, high):\n",
    "    pivot = arr[high]\n",
    "\n",
    "    i = low - 1\n",
    "\n",
    "    for j in range(low, high):\n",
    "        if arr[j] < pivot:\n",
    "            i += 1\n",
    "            arr[i], arr[j] = arr[j], arr[i]\n",
    "\n",
    "    arr[i + 1], arr[high] = pivot, arr[i + 1]\n",
    "\n",
    "    return i + 1\n",
    "\n",
    "def quick_sort(arr, low, high):\n",
    "    \n",
    "    if low < high:\n",
    "        partition_index = partition(arr, low, high)\n",
    "        quick_sort(arr, low, partition_index-1)\n",
    "        quick_sort(arr, partition_index+1, high)"
   ]
  },
  {
   "cell_type": "code",
   "execution_count": 98,
   "metadata": {
    "collapsed": true
   },
   "outputs": [],
   "source": [
    "my_list = [4, 2, 5, 1, 7, 10, 3, 11, 6, 9]\n",
    "quick_sort(my_list, 0, len(my_list)-1)"
   ]
  },
  {
   "cell_type": "code",
   "execution_count": 99,
   "metadata": {},
   "outputs": [
    {
     "name": "stdout",
     "output_type": "stream",
     "text": [
      "[1, 2, 3, 4, 5, 6, 7, 9, 10, 11]\n"
     ]
    }
   ],
   "source": [
    "print(my_list)"
   ]
  },
  {
   "cell_type": "markdown",
   "metadata": {
    "collapsed": true
   },
   "source": [
    "## Interpolation Search - Works for sorted lists which are uniformly distributed"
   ]
  },
  {
   "cell_type": "code",
   "execution_count": 6,
   "metadata": {
    "collapsed": true
   },
   "outputs": [],
   "source": [
    "def interpolation_search(array, left, right, search):\n",
    "    print(\"called!\")\n",
    "    position = left + int((right-left)*(search - array[left])/(array[right] - array[left]))\n",
    "    if array[position] == search:\n",
    "        return \"haha\"\n",
    "    \n",
    "    if array[position] > search:\n",
    "        return interpolation_search(array, left, position - 1, search)\n",
    "    else:\n",
    "        return interpolation_search(array, position + 1, right, search)"
   ]
  },
  {
   "cell_type": "code",
   "execution_count": 4,
   "metadata": {
    "collapsed": true
   },
   "outputs": [],
   "source": [
    "my_list = [i for i in range(30)]"
   ]
  },
  {
   "cell_type": "code",
   "execution_count": 7,
   "metadata": {},
   "outputs": [
    {
     "name": "stdout",
     "output_type": "stream",
     "text": [
      "called!\n"
     ]
    },
    {
     "data": {
      "text/plain": [
       "'haha'"
      ]
     },
     "execution_count": 7,
     "metadata": {},
     "output_type": "execute_result"
    }
   ],
   "source": [
    "interpolation_search(my_list, 0, len(my_list)-1, 10)"
   ]
  },
  {
   "cell_type": "markdown",
   "metadata": {},
   "source": [
    "## Finding Kth smallest Element in a list"
   ]
  },
  {
   "cell_type": "code",
   "execution_count": 8,
   "metadata": {
    "collapsed": true
   },
   "outputs": [],
   "source": [
    "my_list = [4, 2, 5, 1, 7, 10, 3, 11, 6, 9]"
   ]
  },
  {
   "cell_type": "code",
   "execution_count": 9,
   "metadata": {
    "collapsed": true
   },
   "outputs": [],
   "source": [
    "import numpy.random as npr"
   ]
  },
  {
   "cell_type": "code",
   "execution_count": 23,
   "metadata": {
    "collapsed": true
   },
   "outputs": [],
   "source": [
    "def partition(array, left, right):\n",
    "    i = -1\n",
    "    pivot = array[right]\n",
    "    for j in range(len(array)-1):\n",
    "        if array[j] < pivot:\n",
    "            i += 1\n",
    "            array[i], array[j] = array[j], array[i]\n",
    "            \n",
    "    array[i + 1], array[right] = array[right], array[i + 1]\n",
    "    return i + 1"
   ]
  },
  {
   "cell_type": "code",
   "execution_count": 26,
   "metadata": {
    "collapsed": true
   },
   "outputs": [],
   "source": [
    "def get_k_element(array, left, right, k):\n",
    "    \n",
    "    if left > right:\n",
    "        return -1\n",
    "    \n",
    "    position = npr.randint(len(my_list) - 1)\n",
    "    array[position], array[right] = array[right], array[position]\n",
    "    partition_index = partition(array, left, right)\n",
    "\n",
    "    if partition_index + 1 == k:\n",
    "        return array[partition_index]\n",
    "    elif partition_index < k:\n",
    "        return get_k_element(array, partition_index + 1, right, k)\n",
    "    else:\n",
    "        return get_k_element(array, left, partition_index - 1, k)"
   ]
  },
  {
   "cell_type": "code",
   "execution_count": 28,
   "metadata": {},
   "outputs": [
    {
     "data": {
      "text/plain": [
       "7"
      ]
     },
     "execution_count": 28,
     "metadata": {},
     "output_type": "execute_result"
    }
   ],
   "source": [
    "get_k_element(my_list, 0, len(my_list)-1, 7)"
   ]
  },
  {
   "cell_type": "markdown",
   "metadata": {},
   "source": [
    "## Given a sorted array, find pair in array which is closest to x"
   ]
  },
  {
   "cell_type": "markdown",
   "metadata": {},
   "source": [
    "Input: arr[] = {10, 22, 28, 29, 30, 40}, x = 54 <br>\n",
    "Output: 22 and 30"
   ]
  },
  {
   "cell_type": "code",
   "execution_count": 29,
   "metadata": {
    "collapsed": true
   },
   "outputs": [],
   "source": [
    "my_list = [10, 22, 28, 29, 30, 40]\n",
    "x = 54"
   ]
  },
  {
   "cell_type": "code",
   "execution_count": 31,
   "metadata": {},
   "outputs": [],
   "source": [
    "def get_pairs_closest_to_x(my_list, x):\n",
    "    max_difference = x\n",
    "    i, j = 0, len(my_list) - 1\n",
    "    iopt, jopt = i, j\n",
    "    while i < j:\n",
    "        curr_sum = my_list[i] + my_list[j]\n",
    "        curr_difference = curr_sum - x\n",
    "        if abs(curr_difference) < max_difference:\n",
    "            max_difference = abs(curr_difference)\n",
    "            iopt = i\n",
    "            jopt = j\n",
    "        if curr_difference == 0:\n",
    "            break\n",
    "        elif curr_difference > 0:\n",
    "            j -= 1\n",
    "        else:\n",
    "            i += 1\n",
    "\n",
    "    return (my_list[iopt], my_list[jopt])\n"
   ]
  },
  {
   "cell_type": "code",
   "execution_count": 32,
   "metadata": {},
   "outputs": [
    {
     "data": {
      "text/plain": [
       "(4, 10)"
      ]
     },
     "execution_count": 32,
     "metadata": {},
     "output_type": "execute_result"
    }
   ],
   "source": [
    "get_pairs_closest_to_x([1, 3, 4, 7, 10], 15)"
   ]
  }
 ],
 "metadata": {
  "kernelspec": {
   "display_name": "Python 3",
   "language": "python",
   "name": "python3"
  },
  "language_info": {
   "codemirror_mode": {
    "name": "ipython",
    "version": 3
   },
   "file_extension": ".py",
   "mimetype": "text/x-python",
   "name": "python",
   "nbconvert_exporter": "python",
   "pygments_lexer": "ipython3",
   "version": "3.6.1"
  }
 },
 "nbformat": 4,
 "nbformat_minor": 2
}

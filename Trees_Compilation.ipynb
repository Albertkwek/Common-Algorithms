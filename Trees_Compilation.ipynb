{
 "cells": [
  {
   "cell_type": "markdown",
   "metadata": {},
   "source": [
    "## Binary Tree Structure"
   ]
  },
  {
   "cell_type": "code",
   "execution_count": 8,
   "metadata": {
    "collapsed": true
   },
   "outputs": [],
   "source": [
    "class TreeNode:\n",
    "    def __init__(self, data, left = None, right = None):\n",
    "        self.data = data\n",
    "        self.left = left\n",
    "        self.right = right"
   ]
  },
  {
   "cell_type": "markdown",
   "metadata": {},
   "source": [
    "## Find minimum depth of a binary tree"
   ]
  },
  {
   "cell_type": "markdown",
   "metadata": {},
   "source": [
    "<img src = \"http://www.geeksforgeeks.org/wp-content/uploads/2009/06/tree122.gif\"  height=\"400\" width=\"400\">\n",
    "<br>\n",
    "<center><h4> min depth is 2, from node 1 to node 3 </h3></center>"
   ]
  },
  {
   "cell_type": "code",
   "execution_count": 22,
   "metadata": {
    "collapsed": true
   },
   "outputs": [],
   "source": [
    "node_1 = TreeNode(1)\n",
    "node_1.right = TreeNode(3)\n",
    "node_1.left = TreeNode(2)\n",
    "node_1.left.left = TreeNode(4)\n",
    "node_1.left.right = TreeNode(5)"
   ]
  },
  {
   "cell_type": "code",
   "execution_count": 23,
   "metadata": {
    "collapsed": true
   },
   "outputs": [],
   "source": [
    "def get_min_depth(node):\n",
    "    if node.left == None and node.right == None:\n",
    "        return 1\n",
    "    elif node.left == None:\n",
    "        return 1 + get_min_depth(node.right)\n",
    "    elif node.right == None:\n",
    "        return 1 + get_min_depth(node.left)\n",
    "    else:\n",
    "        return 1 + min(get_min_depth(node.left), get_min_depth(node.right))"
   ]
  },
  {
   "cell_type": "code",
   "execution_count": 24,
   "metadata": {},
   "outputs": [
    {
     "data": {
      "text/plain": [
       "2"
      ]
     },
     "execution_count": 24,
     "metadata": {},
     "output_type": "execute_result"
    }
   ],
   "source": [
    "get_min_depth(node_1)"
   ]
  },
  {
   "cell_type": "markdown",
   "metadata": {},
   "source": [
    "## Maximum Path Sum in a Binary Tree"
   ]
  },
  {
   "cell_type": "markdown",
   "metadata": {},
   "source": [
    "<img src = \"http://www.geeksforgeeks.org/wp-content/uploads/tree4.png\"  height=\"400\" width=\"400\">"
   ]
  },
  {
   "cell_type": "code",
   "execution_count": 12,
   "metadata": {
    "collapsed": true
   },
   "outputs": [],
   "source": [
    "root = TreeNode(10)\n",
    "root.right = TreeNode(10)\n",
    "root.right.right = TreeNode(-25)\n",
    "root.right.right.left = TreeNode(3)\n",
    "root.right.right.right = TreeNode(4)\n",
    "root.left = TreeNode(2)\n",
    "root.left.left = TreeNode(20)\n",
    "root.left.right = TreeNode(1)"
   ]
  },
  {
   "cell_type": "code",
   "execution_count": 15,
   "metadata": {
    "collapsed": true
   },
   "outputs": [],
   "source": [
    "def get_max_sum_path(node):\n",
    "    if node == None:\n",
    "        return 0\n",
    "\n",
    "    left_max_sum_path = get_max_sum_path(node.left)\n",
    "    right_max_sum_path = get_max_sum_path(node.right)\n",
    "    max_single_path = max(left_max_sum_path + node.data,\n",
    "                          right_max_sum_path + node.data)\n",
    "\n",
    "    # We see that combined path cannot be returned i.e. 20, 2, 1 --> Cannot form a complete path with 10(root)\n",
    "    combined_path = node.data + left_max_sum_path + right_max_sum_path\n",
    "\n",
    "    get_max_sum_path.max_path = max(get_max_sum_path.max_path, combined_path)\n",
    "\n",
    "    return max_single_path"
   ]
  },
  {
   "cell_type": "code",
   "execution_count": 20,
   "metadata": {},
   "outputs": [
    {
     "data": {
      "text/plain": [
       "42"
      ]
     },
     "execution_count": 20,
     "metadata": {},
     "output_type": "execute_result"
    }
   ],
   "source": [
    "get_max_sum_path.max_path = float(\"-inf\") #Initialize Static variable\n",
    "get_max_sum_path(root)\n",
    "get_max_sum_path.max_path"
   ]
  },
  {
   "cell_type": "markdown",
   "metadata": {},
   "source": [
    "## Check if a given array can represent Preorder Traversal of Binary Search Tree"
   ]
  },
  {
   "cell_type": "markdown",
   "metadata": {},
   "source": [
    "<h4><a href = \"https://en.wikipedia.org/wiki/Binary_search_tree\">Link </a> to read about Binary Search Trees</h4>\n",
    "<h4><a href = \"http://www.geeksforgeeks.org/tree-traversals-inorder-preorder-and-postorder/\">Link </a> to read about traversals of Binary Trees</h4>"
   ]
  },
  {
   "cell_type": "markdown",
   "metadata": {},
   "source": [
    "<h4> i.e. </h4>\n",
    "<img src = \"https://upload.wikimedia.org/wikipedia/commons/thumb/d/da/Binary_search_tree.svg/300px-Binary_search_tree.svg.png\" height=\"400\" width=\"400\" >\n",
    "<h4> Preorder (Root, Left, Right) : 8 3 1 6 4 7 10 14 13</h4>\n",
    "<h4> Hence problem is : Given an array of numbers above --> Determine if they can form a valid binary search tree using preorder traversal </h4>"
   ]
  },
  {
   "cell_type": "code",
   "execution_count": 53,
   "metadata": {
    "collapsed": true
   },
   "outputs": [],
   "source": [
    "preorder_array = [8, 3, 1, 6, 4, 7, 10, 14, 9]"
   ]
  },
  {
   "cell_type": "code",
   "execution_count": 54,
   "metadata": {},
   "outputs": [
    {
     "name": "stdout",
     "output_type": "stream",
     "text": [
      "False\n"
     ]
    }
   ],
   "source": [
    "stack = []\n",
    "\n",
    "min_popped = float(\"-inf\")\n",
    "is_binary_tree = True\n",
    "for item in preorder_array:\n",
    "    if len(stack) == 0:\n",
    "        stack.append(item)\n",
    "    else:\n",
    "        if item < min_popped:\n",
    "            is_binary_tree = False\n",
    "            break\n",
    "        \n",
    "        while len(stack) > 0 and item > stack[-1]:\n",
    "            min_popped = stack.pop() \n",
    "        \n",
    "        stack.append(item)\n",
    "        \n",
    "print(is_binary_tree)"
   ]
  },
  {
   "cell_type": "markdown",
   "metadata": {},
   "source": [
    "http://www.geeksforgeeks.org/check-whether-binary-tree-full-binary-tree-not/"
   ]
  },
  {
   "cell_type": "markdown",
   "metadata": {
    "collapsed": true
   },
   "source": [
    "## Check if binary tree is a full binary tree"
   ]
  },
  {
   "cell_type": "markdown",
   "metadata": {},
   "source": [
    "<img src = \"http://www.geeksforgeeks.org/wp-content/uploads/Full.png\" height=\"400\" width=\"400\" >"
   ]
  },
  {
   "cell_type": "code",
   "execution_count": 2,
   "metadata": {
    "collapsed": true
   },
   "outputs": [],
   "source": [
    "#Full Binary Tree\n",
    "root = TreeNode(1)\n",
    "root.left = TreeNode(2)\n",
    "root.right = TreeNode(3)\n",
    "root.left.left = TreeNode(4)\n",
    "root.left.right = TreeNode(5)"
   ]
  },
  {
   "cell_type": "code",
   "execution_count": 3,
   "metadata": {
    "collapsed": true
   },
   "outputs": [],
   "source": [
    "def is_full_binary_tree(node):\n",
    "    if node.left == None and node.right == None:\n",
    "        return True\n",
    "    \n",
    "    if node.left and node.right:\n",
    "        return is_full_binary_tree(node.left) and is_full_binary_tree(node.right)\n",
    "    \n",
    "    return False"
   ]
  },
  {
   "cell_type": "code",
   "execution_count": 5,
   "metadata": {},
   "outputs": [
    {
     "data": {
      "text/plain": [
       "True"
      ]
     },
     "execution_count": 5,
     "metadata": {},
     "output_type": "execute_result"
    }
   ],
   "source": [
    "is_full_binary_tree(root)"
   ]
  },
  {
   "cell_type": "code",
   "execution_count": 6,
   "metadata": {
    "collapsed": true
   },
   "outputs": [],
   "source": [
    "#Not a Full Binary Tree\n",
    "root = TreeNode(1)\n",
    "root.left = TreeNode(2)\n",
    "root.right = TreeNode(3)\n",
    "root.left.left = TreeNode(4)"
   ]
  },
  {
   "cell_type": "code",
   "execution_count": 7,
   "metadata": {},
   "outputs": [
    {
     "data": {
      "text/plain": [
       "False"
      ]
     },
     "execution_count": 7,
     "metadata": {},
     "output_type": "execute_result"
    }
   ],
   "source": [
    "is_full_binary_tree(root)"
   ]
  },
  {
   "cell_type": "markdown",
   "metadata": {},
   "source": [
    "## Bottom View of a Binary Tree"
   ]
  },
  {
   "cell_type": "markdown",
   "metadata": {},
   "source": [
    "Given a Binary Tree, we need to print the bottom view from left to right. A node x is there in output if x is the bottommost node at its horizontal distance. Horizontal distance of left child of a node x is equal to horizontal distance of x minus 1, and that of right child is horizontal distance of x plus 1.\n",
    "\n",
    "Examples:"
   ]
  },
  {
   "cell_type": "markdown",
   "metadata": {},
   "source": [
    "                      20\n",
    "                    /    \\\n",
    "                  8       22\n",
    "                /   \\      \\\n",
    "              5      3      25\n",
    "                    / \\      \n",
    "                  10    14\n",
    "                  \n",
    "For the above tree the output should be 5, 10, 3, 14, 25.\n",
    "\n",
    "If there are multiple bottom-most nodes for a horizontal distance from root, then print the later one in level traversal. For example, in the below diagram, 3 and 4 are both the bottom-most nodes at horizontal distance 0, we need to print 4.\n",
    "\n",
    "                   \n",
    "                      20\n",
    "                    /    \\\n",
    "                  8       22\n",
    "                /   \\    /   \\\n",
    "              5      3 4     25\n",
    "                    / \\      \n",
    "                  10    14 \n",
    "For the above tree the output should be 5, 10, 4, 14, 25."
   ]
  },
  {
   "cell_type": "code",
   "execution_count": 9,
   "metadata": {},
   "outputs": [],
   "source": [
    "root = TreeNode(20)\n",
    "root.left = TreeNode(8)\n",
    "root.left.left = TreeNode(5)\n",
    "root.left.right = TreeNode(3)\n",
    "root.left.right.left = TreeNode(10)\n",
    "root.left.right.right = TreeNode(14)\n",
    "root.right = TreeNode(22)\n",
    "root.right.left = TreeNode(4)\n",
    "root.right.right = TreeNode(25)"
   ]
  },
  {
   "cell_type": "code",
   "execution_count": 28,
   "metadata": {
    "collapsed": true
   },
   "outputs": [],
   "source": [
    "# Maps horizontal distance from root to bottom-most nodes represented by tuple of (height, value)\n",
    "def update_bottom_most_map(node, bottom_most_map, h_dist, height): #Recursive traversal is depth-first\n",
    "    if node == None:\n",
    "        pass\n",
    "    else:\n",
    "        bottom_most_map[h_dist] = (height, node.data)\n",
    "        update_bottom_most_map(node.left, bottom_most_map, h_dist - 1, height + 1) \n",
    "        update_bottom_most_map(node.right, bottom_most_map, h_dist + 1, height + 1)"
   ]
  },
  {
   "cell_type": "code",
   "execution_count": 29,
   "metadata": {
    "collapsed": true
   },
   "outputs": [],
   "source": [
    "bottom_most_map = {}\n",
    "update_bottom_most_map(root, bottom_most_map, 0, 0)"
   ]
  },
  {
   "cell_type": "code",
   "execution_count": 30,
   "metadata": {},
   "outputs": [
    {
     "name": "stdout",
     "output_type": "stream",
     "text": [
      "5\n",
      "10\n",
      "4\n",
      "22\n",
      "25\n"
     ]
    }
   ],
   "source": [
    "for key in sorted(bottom_most_map .keys()):\n",
    "    print(bottom_most_map[key][1])"
   ]
  },
  {
   "cell_type": "markdown",
   "metadata": {},
   "source": [
    "## Print Nodes in Top View of Binary Tree"
   ]
  },
  {
   "cell_type": "markdown",
   "metadata": {},
   "source": [
    "Top view of a binary tree is the set of nodes visible when the tree is viewed from the top. Given a binary tree, print the top view of it. The output nodes can be printed in any order. Expected time complexity is O(n)\n",
    "\n",
    "A node x is there in output if x is the topmost node at its horizontal distance. Horizontal distance of left child of a node x is equal to horizontal distance of x minus 1, and that of right child is horizontal distance of x plus 1.\n",
    "\n",
    "           1\n",
    "        /     \\\n",
    "       2       3\n",
    "      /  \\    / \\\n",
    "     4    5  6   7\n",
    "\n",
    "Top view of the above binary tree is\n",
    "4 2 1 3 7\n",
    "\n",
    "        1\n",
    "      /   \\\n",
    "    2       3\n",
    "      \\   \n",
    "        4  \n",
    "          \\\n",
    "            5\n",
    "             \\\n",
    "               6\n",
    "Top view of the above binary tree is\n",
    "2 1 3 6"
   ]
  },
  {
   "cell_type": "code",
   "execution_count": 15,
   "metadata": {
    "collapsed": true
   },
   "outputs": [],
   "source": [
    "root = TreeNode(1)\n",
    "root.left = TreeNode(2)\n",
    "root.right = TreeNode(3)\n",
    "root.left.right = TreeNode(4)\n",
    "root.left.right.right = TreeNode(5)\n",
    "root.left.right.right.right = TreeNode(6)"
   ]
  },
  {
   "cell_type": "code",
   "execution_count": 13,
   "metadata": {
    "collapsed": true
   },
   "outputs": [],
   "source": [
    "def print_top_view(root):\n",
    "    import queue\n",
    "    map_h_dist_top_element = {}\n",
    "    new_queue = queue.Queue()\n",
    "    new_queue.put(root)\n",
    "    h_dist_queue = queue.Queue()\n",
    "    h_dist_queue.put(0)\n",
    "    \n",
    "    while not new_queue.empty(): #Breadth first traversal\n",
    "        curr = new_queue.get()\n",
    "        h_dist = h_dist_queue.get()\n",
    "        if h_dist not in map_h_dist_top_element:\n",
    "            map_h_dist_top_element[h_dist] = curr.data\n",
    "        if curr.left != None:\n",
    "            new_queue.put(curr.left)\n",
    "            h_dist_queue.put(h_dist - 1)\n",
    "            \n",
    "        if curr.right != None:\n",
    "            new_queue.put(curr.right)\n",
    "            h_dist_queue.put(h_dist + 1)\n",
    "    \n",
    "    return [map_h_dist_top_element[key] for key in sorted(map_h_dist_top_element.keys())]"
   ]
  },
  {
   "cell_type": "code",
   "execution_count": 16,
   "metadata": {},
   "outputs": [
    {
     "data": {
      "text/plain": [
       "[2, 1, 3, 6]"
      ]
     },
     "execution_count": 16,
     "metadata": {},
     "output_type": "execute_result"
    }
   ],
   "source": [
    "print_top_view(root)"
   ]
  },
  {
   "cell_type": "markdown",
   "metadata": {},
   "source": [
    "## Remove nodes on root to leaf paths of length < K"
   ]
  },
  {
   "cell_type": "markdown",
   "metadata": {},
   "source": [
    "Given a Binary Tree and a number k, remove all nodes that lie only on root to leaf path(s) of length smaller than k. If a node X lies on multiple root-to-leaf paths and if any of the paths has path length >= k, then X is not deleted from Binary Tree. In other words a node is deleted if all paths going through it have lengths smaller than k.\n",
    "\n",
    "Consider the following example Binary Tree\n",
    "\n",
    "            1\n",
    "           /  \\\n",
    "          2    3\n",
    "        /   \\    \\\n",
    "      4       5   6\n",
    "     /           /\n",
    "    7           8 \n",
    "Input: Root of above Binary Tree\n",
    "       k = 4\n",
    "\n",
    "Output: The tree should be changed to following  \n",
    "\n",
    "            1\n",
    "           /  \\\n",
    "          2    3\n",
    "        /       \\\n",
    "      4           6\n",
    "     /           /\n",
    "    7           8 \n",
    "\n",
    "There are 3 paths \n",
    "i) 1->2->4->7      path length = 4\n",
    "ii) 1->2->5        path length = 3\n",
    "iii) 1->3->6->8    path length = 4 \n",
    "There is only one path \" 1->2->5 \" of length smaller than 4.  \n",
    "The node 5 is the only node that lies only on this path, so \n",
    "node 5 is removed.\n",
    "Nodes 2 and 1 are not removed as they are parts of other paths\n",
    "of length 4 as well.\n",
    "\n",
    "If k is 5 or greater than 5, then whole tree is deleted. \n",
    "\n",
    "If k is 3 or less than 3, then nothing is deleted."
   ]
  },
  {
   "cell_type": "code",
   "execution_count": null,
   "metadata": {
    "collapsed": true
   },
   "outputs": [],
   "source": []
  }
 ],
 "metadata": {
  "kernelspec": {
   "display_name": "Python 3",
   "language": "python",
   "name": "python3"
  },
  "language_info": {
   "codemirror_mode": {
    "name": "ipython",
    "version": 3
   },
   "file_extension": ".py",
   "mimetype": "text/x-python",
   "name": "python",
   "nbconvert_exporter": "python",
   "pygments_lexer": "ipython3",
   "version": "3.6.1"
  }
 },
 "nbformat": 4,
 "nbformat_minor": 2
}

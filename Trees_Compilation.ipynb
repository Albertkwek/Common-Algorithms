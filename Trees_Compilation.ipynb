{
 "cells": [
  {
   "cell_type": "markdown",
   "metadata": {},
   "source": [
    "## Binary Tree Structure"
   ]
  },
  {
   "cell_type": "code",
   "execution_count": 2,
   "metadata": {
    "collapsed": true
   },
   "outputs": [],
   "source": [
    "class TreeNode:\n",
    "    def __init__(self, data, left = None, right = None):\n",
    "        self.data = data\n",
    "        self.left = left\n",
    "        self.right = right"
   ]
  },
  {
   "cell_type": "markdown",
   "metadata": {},
   "source": [
    "## Find minimum depth of a binary tree"
   ]
  },
  {
   "cell_type": "markdown",
   "metadata": {},
   "source": [
    "<img src = \"http://www.geeksforgeeks.org/wp-content/uploads/2009/06/tree122.gif\"  height=\"400\" width=\"400\">\n",
    "<br>\n",
    "<center><h4> min depth is 2, from node 1 to node 3 </h3></center>"
   ]
  },
  {
   "cell_type": "code",
   "execution_count": 22,
   "metadata": {
    "collapsed": true
   },
   "outputs": [],
   "source": [
    "node_1 = TreeNode(1)\n",
    "node_1.right = TreeNode(3)\n",
    "node_1.left = TreeNode(2)\n",
    "node_1.left.left = TreeNode(4)\n",
    "node_1.left.right = TreeNode(5)"
   ]
  },
  {
   "cell_type": "code",
   "execution_count": 23,
   "metadata": {
    "collapsed": true
   },
   "outputs": [],
   "source": [
    "def get_min_depth(node):\n",
    "    if node.left == None and node.right == None:\n",
    "        return 1\n",
    "    elif node.left == None:\n",
    "        return 1 + get_min_depth(node.right)\n",
    "    elif node.right == None:\n",
    "        return 1 + get_min_depth(node.left)\n",
    "    else:\n",
    "        return 1 + min(get_min_depth(node.left), get_min_depth(node.right))"
   ]
  },
  {
   "cell_type": "code",
   "execution_count": 24,
   "metadata": {},
   "outputs": [
    {
     "data": {
      "text/plain": [
       "2"
      ]
     },
     "execution_count": 24,
     "metadata": {},
     "output_type": "execute_result"
    }
   ],
   "source": [
    "get_min_depth(node_1)"
   ]
  },
  {
   "cell_type": "markdown",
   "metadata": {},
   "source": [
    "## Maximum Path Sum in a Binary Tree"
   ]
  },
  {
   "cell_type": "markdown",
   "metadata": {},
   "source": [
    "<img src = \"http://www.geeksforgeeks.org/wp-content/uploads/tree4.png\"  height=\"400\" width=\"400\">"
   ]
  },
  {
   "cell_type": "code",
   "execution_count": 12,
   "metadata": {
    "collapsed": true
   },
   "outputs": [],
   "source": [
    "root = TreeNode(10)\n",
    "root.right = TreeNode(10)\n",
    "root.right.right = TreeNode(-25)\n",
    "root.right.right.left = TreeNode(3)\n",
    "root.right.right.right = TreeNode(4)\n",
    "root.left = TreeNode(2)\n",
    "root.left.left = TreeNode(20)\n",
    "root.left.right = TreeNode(1)"
   ]
  },
  {
   "cell_type": "code",
   "execution_count": 15,
   "metadata": {
    "collapsed": true
   },
   "outputs": [],
   "source": [
    "def get_max_sum_path(node):\n",
    "    if node == None:\n",
    "        return 0\n",
    "\n",
    "    left_max_sum_path = get_max_sum_path(node.left)\n",
    "    right_max_sum_path = get_max_sum_path(node.right)\n",
    "    max_single_path = max(left_max_sum_path + node.data,\n",
    "                          right_max_sum_path + node.data)\n",
    "\n",
    "    # We see that combined path cannot be returned i.e. 20, 2, 1 --> Cannot form a complete path with 10(root)\n",
    "    combined_path = node.data + left_max_sum_path + right_max_sum_path\n",
    "\n",
    "    get_max_sum_path.max_path = max(get_max_sum_path.max_path, combined_path)\n",
    "\n",
    "    return max_single_path"
   ]
  },
  {
   "cell_type": "code",
   "execution_count": 20,
   "metadata": {},
   "outputs": [
    {
     "data": {
      "text/plain": [
       "42"
      ]
     },
     "execution_count": 20,
     "metadata": {},
     "output_type": "execute_result"
    }
   ],
   "source": [
    "get_max_sum_path.max_path = float(\"-inf\") #Initialize Static variable\n",
    "get_max_sum_path(root)\n",
    "get_max_sum_path.max_path"
   ]
  },
  {
   "cell_type": "markdown",
   "metadata": {},
   "source": [
    "## Check if a given array can represent Preorder Traversal of Binary Search Tree"
   ]
  },
  {
   "cell_type": "markdown",
   "metadata": {},
   "source": [
    "<h4><a href = \"https://en.wikipedia.org/wiki/Binary_search_tree\">Link </a> to read about Binary Search Trees</h4>\n",
    "<h4><a href = \"http://www.geeksforgeeks.org/tree-traversals-inorder-preorder-and-postorder/\">Link </a> to read about traversals of Binary Trees</h4>"
   ]
  },
  {
   "cell_type": "markdown",
   "metadata": {},
   "source": [
    "<h4> i.e. </h4>\n",
    "<img src = \"https://upload.wikimedia.org/wikipedia/commons/thumb/d/da/Binary_search_tree.svg/300px-Binary_search_tree.svg.png\" height=\"400\" width=\"400\" >\n",
    "<h4> Preorder (Root, Left, Right) : 8 3 1 6 4 7 10 14 13</h4>\n",
    "<h4> Hence problem is : Given an array of numbers above --> Determine if they can form a valid binary search tree using preorder traversal </h4>"
   ]
  },
  {
   "cell_type": "code",
   "execution_count": 53,
   "metadata": {
    "collapsed": true
   },
   "outputs": [],
   "source": [
    "preorder_array = [8, 3, 1, 6, 4, 7, 10, 14, 9]"
   ]
  },
  {
   "cell_type": "code",
   "execution_count": 54,
   "metadata": {},
   "outputs": [
    {
     "name": "stdout",
     "output_type": "stream",
     "text": [
      "False\n"
     ]
    }
   ],
   "source": [
    "stack = []\n",
    "\n",
    "min_popped = float(\"-inf\")\n",
    "is_binary_tree = True\n",
    "for item in preorder_array:\n",
    "    if len(stack) == 0:\n",
    "        stack.append(item)\n",
    "    else:\n",
    "        if item < min_popped:\n",
    "            is_binary_tree = False\n",
    "            break\n",
    "        \n",
    "        while len(stack) > 0 and item > stack[-1]:\n",
    "            min_popped = stack.pop() \n",
    "        \n",
    "        stack.append(item)\n",
    "        \n",
    "print(is_binary_tree)"
   ]
  },
  {
   "cell_type": "markdown",
   "metadata": {},
   "source": [
    "http://www.geeksforgeeks.org/check-whether-binary-tree-full-binary-tree-not/"
   ]
  },
  {
   "cell_type": "code",
   "execution_count": null,
   "metadata": {
    "collapsed": true
   },
   "outputs": [],
   "source": []
  }
 ],
 "metadata": {
  "kernelspec": {
   "display_name": "Python 3",
   "language": "python",
   "name": "python3"
  },
  "language_info": {
   "codemirror_mode": {
    "name": "ipython",
    "version": 3
   },
   "file_extension": ".py",
   "mimetype": "text/x-python",
   "name": "python",
   "nbconvert_exporter": "python",
   "pygments_lexer": "ipython3",
   "version": "3.6.1"
  }
 },
 "nbformat": 4,
 "nbformat_minor": 2
}
